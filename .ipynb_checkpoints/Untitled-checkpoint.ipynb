{
 "cells": [
  {
   "cell_type": "code",
   "execution_count": 2,
   "metadata": {},
   "outputs": [
    {
     "name": "stderr",
     "output_type": "stream",
     "text": [
      "Using TensorFlow backend.\n"
     ]
    }
   ],
   "source": [
    "import os\n",
    "os.environ['TF_CPP_MIN_LOG_LEVEL'] = '2'\n",
    "import numpy as np\n",
    "from keras import callbacks\n",
    "from keras.models import Sequential, model_from_yaml, load_model\n",
    "from keras.layers import Dense, Conv2D, Flatten, Dropout, MaxPool2D\n",
    "from keras.optimizers import Adam, SGD\n",
    "from keras.preprocessing import image\n",
    "from keras.utils import np_utils, plot_model\n",
    "from sklearn.model_selection import train_test_split\n",
    "from keras.applications.resnet50 import preprocess_input, decode_predictions\n",
    "\n",
    "np.random.seed(7)\n",
    "img_h, img_w = 150, 150\n",
    "image_size = (150, 150)\n",
    "nbatch_size = 256\n",
    "nepochs = 48\n",
    "nb_classes = 2"
   ]
  },
  {
   "cell_type": "code",
   "execution_count": 4,
   "metadata": {},
   "outputs": [],
   "source": [
    "path = './dataset/Animal/Cat&Dog/train/'\n",
    "files = os.listdir(path)\n",
    "images = []\n",
    "labels = []\n",
    "for f in files:\n",
    "    img_path = path + f\n",
    "    #print(img_path)\n",
    "    img = image.load_img(img_path, target_size=image_size)\n",
    "    img_array = image.img_to_array(img)\n",
    "    images.append(img_array)\n",
    "\n",
    "    if 'cat' in f:\n",
    "        labels.append(0)\n",
    "    else:\n",
    "        labels.append(1)\n",
    "\n",
    "data = np.array(images)\n",
    "labels = np.array(labels)\n",
    "\n",
    "labels = np_utils.to_categorical(labels, 2)"
   ]
  },
  {
   "cell_type": "code",
   "execution_count": 5,
   "metadata": {},
   "outputs": [
    {
     "name": "stdout",
     "output_type": "stream",
     "text": [
      "Model: \"sequential_1\"\n",
      "_________________________________________________________________\n",
      "Layer (type)                 Output Shape              Param #   \n",
      "=================================================================\n",
      "conv2d_1 (Conv2D)            (None, 150, 150, 32)      2432      \n",
      "_________________________________________________________________\n",
      "max_pooling2d_1 (MaxPooling2 (None, 75, 75, 32)        0         \n",
      "_________________________________________________________________\n",
      "dropout_1 (Dropout)          (None, 75, 75, 32)        0         \n",
      "_________________________________________________________________\n",
      "conv2d_2 (Conv2D)            (None, 75, 75, 64)        51264     \n",
      "_________________________________________________________________\n",
      "max_pooling2d_2 (MaxPooling2 (None, 37, 37, 64)        0         \n",
      "_________________________________________________________________\n",
      "dropout_2 (Dropout)          (None, 37, 37, 64)        0         \n",
      "_________________________________________________________________\n",
      "conv2d_3 (Conv2D)            (None, 37, 37, 128)       204928    \n",
      "_________________________________________________________________\n",
      "max_pooling2d_3 (MaxPooling2 (None, 18, 18, 128)       0         \n",
      "_________________________________________________________________\n",
      "dropout_3 (Dropout)          (None, 18, 18, 128)       0         \n",
      "_________________________________________________________________\n",
      "conv2d_4 (Conv2D)            (None, 18, 18, 256)       819456    \n",
      "_________________________________________________________________\n",
      "max_pooling2d_4 (MaxPooling2 (None, 9, 9, 256)         0         \n",
      "_________________________________________________________________\n",
      "dropout_4 (Dropout)          (None, 9, 9, 256)         0         \n",
      "_________________________________________________________________\n",
      "flatten_1 (Flatten)          (None, 20736)             0         \n",
      "_________________________________________________________________\n",
      "dense_1 (Dense)              (None, 512)               10617344  \n",
      "_________________________________________________________________\n",
      "dropout_5 (Dropout)          (None, 512)               0         \n",
      "_________________________________________________________________\n",
      "dense_2 (Dense)              (None, 2)                 1026      \n",
      "=================================================================\n",
      "Total params: 11,696,450\n",
      "Trainable params: 11,696,450\n",
      "Non-trainable params: 0\n",
      "_________________________________________________________________\n"
     ]
    }
   ],
   "source": [
    "model = Sequential()\n",
    "\n",
    "model.add(Conv2D(32, kernel_size=(5, 5), input_shape=(img_h, img_h, 3), activation='relu', padding='same'))\n",
    "model.add(MaxPool2D())\n",
    "model.add(Dropout(0.3))\n",
    "\n",
    "model.add(Conv2D(64, kernel_size=(5, 5), activation='relu', padding='same'))\n",
    "model.add(MaxPool2D())\n",
    "model.add(Dropout(0.3))\n",
    "\n",
    "model.add(Conv2D(128, kernel_size=(5, 5), activation='relu', padding='same'))\n",
    "model.add(MaxPool2D())\n",
    "model.add(Dropout(0.5))\n",
    "\n",
    "model.add(Conv2D(256, kernel_size=(5, 5), activation='relu', padding='same'))\n",
    "model.add(MaxPool2D())\n",
    "model.add(Dropout(0.5))\n",
    "\n",
    "model.add(Flatten())\n",
    "model.add(Dense(512, activation='relu'))\n",
    "model.add(Dropout(0.5))\n",
    "\n",
    "model.add(Dense(2, activation='softmax'))\n",
    "\n",
    "model.summary()"
   ]
  },
  {
   "cell_type": "code",
   "execution_count": 6,
   "metadata": {},
   "outputs": [
    {
     "name": "stdout",
     "output_type": "stream",
     "text": [
      "compile.......\n"
     ]
    }
   ],
   "source": [
    "print(\"compile.......\")\n",
    "sgd = Adam(lr=0.0003)\n",
    "model.compile(loss='binary_crossentropy',optimizer=sgd, metrics=['accuracy'])"
   ]
  },
  {
   "cell_type": "code",
   "execution_count": 9,
   "metadata": {},
   "outputs": [
    {
     "name": "stdout",
     "output_type": "stream",
     "text": [
      "(20000, 150, 150, 3) (20000, 2)\n"
     ]
    }
   ],
   "source": [
    "images = data\n",
    "x_train, x_test, y_train, y_test = train_test_split(images, labels, test_size=0.2)\n",
    "print(x_train.shape,y_train.shape)"
   ]
  },
  {
   "cell_type": "code",
   "execution_count": null,
   "metadata": {},
   "outputs": [
    {
     "name": "stdout",
     "output_type": "stream",
     "text": [
      "train.......\n",
      "Train on 20000 samples, validate on 5000 samples\n",
      "Epoch 1/48\n",
      "20000/20000 [==============================] - 1927s 96ms/step - loss: 7.6599 - accuracy: 0.5017 - val_loss: 7.8095 - val_accuracy: 0.4922\n",
      "Epoch 2/48\n",
      "20000/20000 [==============================] - 1172s 59ms/step - loss: 7.6596 - accuracy: 0.5020 - val_loss: 7.8095 - val_accuracy: 0.4922\n",
      "Epoch 3/48\n",
      "20000/20000 [==============================] - 988s 49ms/step - loss: 7.6596 - accuracy: 0.5020 - val_loss: 7.8095 - val_accuracy: 0.4922\n",
      "Epoch 4/48\n",
      "20000/20000 [==============================] - 6046s 302ms/step - loss: 7.6596 - accuracy: 0.5020 - val_loss: 7.8095 - val_accuracy: 0.4922\n",
      "Epoch 5/48\n",
      "20000/20000 [==============================] - 6614s 331ms/step - loss: 7.6596 - accuracy: 0.5020 - val_loss: 7.8095 - val_accuracy: 0.4922\n",
      "Epoch 6/48\n",
      "20000/20000 [==============================] - 8346s 417ms/step - loss: 7.6596 - accuracy: 0.5020 - val_loss: 7.8095 - val_accuracy: 0.4922\n",
      "Epoch 7/48\n",
      "20000/20000 [==============================] - 6989s 349ms/step - loss: 7.6596 - accuracy: 0.5020 - val_loss: 7.8095 - val_accuracy: 0.4922\n",
      "Epoch 8/48\n",
      "20000/20000 [==============================] - 7221s 361ms/step - loss: 7.6596 - accuracy: 0.5020 - val_loss: 7.8095 - val_accuracy: 0.4922\n",
      "Epoch 9/48\n",
      "20000/20000 [==============================] - 8543s 427ms/step - loss: 7.6596 - accuracy: 0.5020 - val_loss: 7.8095 - val_accuracy: 0.4922\n",
      "Epoch 10/48\n",
      "20000/20000 [==============================] - 5534s 277ms/step - loss: 7.6596 - accuracy: 0.5020 - val_loss: 7.8095 - val_accuracy: 0.4922\n",
      "Epoch 11/48\n",
      "15616/20000 [======================>.......] - ETA: 54:56 - loss: 7.6895 - accuracy: 0.5000"
     ]
    }
   ],
   "source": [
    "print(\"train.......\")\n",
    "tbCallbacks = callbacks.TensorBoard(log_dir='./logs', histogram_freq=1, write_graph=True, write_images=True)\n",
    "model.fit(x_train, y_train, batch_size=nbatch_size, epochs=nepochs, verbose=1, validation_data=(x_test, y_test), callbacks=[tbCallbacks])"
   ]
  },
  {
   "cell_type": "code",
   "execution_count": null,
   "metadata": {},
   "outputs": [],
   "source": [
    "print(\"evaluate......\")\n",
    "scroe, accuracy = model.evaluate(x_test, y_test, batch_size=nbatch_size)\n",
    "print('scroe:', scroe, 'accuracy:', accuracy)"
   ]
  },
  {
   "cell_type": "code",
   "execution_count": null,
   "metadata": {},
   "outputs": [],
   "source": []
  }
 ],
 "metadata": {
  "kernelspec": {
   "display_name": "Python 3",
   "language": "python",
   "name": "python3"
  },
  "language_info": {
   "codemirror_mode": {
    "name": "ipython",
    "version": 3
   },
   "file_extension": ".py",
   "mimetype": "text/x-python",
   "name": "python",
   "nbconvert_exporter": "python",
   "pygments_lexer": "ipython3",
   "version": "3.7.4"
  }
 },
 "nbformat": 4,
 "nbformat_minor": 2
}
